'''
	Extrair dados de planilhas Excel de uma pasta para dataframe utilizando Pandas
	e realizar insercoes de dados no mesmo
'''
import pandas as pd
import os

# Receber pasta onde se encontram os arquivos
invalid_path = True
while (invalid_path):
	path = input("Digite o caminho da pasta onde se encontram os arquivos:\n")
	if os.path.isdir(path):
		print("Pasta encontrada!\n")
		invalid_path = False
	else:
		print("Pasta invalida!\n")

# Importar data frame completa da pasta informada
path_files = [os.path.join(path, name) for name in os.listdir(path)]
files = [f for f in path_files if os.path.isfile(f)]
xlsx = [f for f in files if f.lower().endswith(".xlsx")]
if len(xlsx)>0:
	df = pd.read_excel(xlsx[0])
	for i in range(1,len(xlsx)):
		df = pd.concat([df,pd.read_excel(xlsx[1])])
	print("Colunas identiicadas:\n")
	print(df.dtypes)
	opcao = '0'
	while opcao!='X':
		opcao = input("\nSelecione uma das opcoes:\n 1 - Inserir informacao;\n 2 - Mostrar informacoes da tabela;\n X - Sair do programa;\n")
		if opcao == '1':
			linha = []
			for col in df.columns:
				linha.append(input("Digite o valor de "+str(col)+":\n"))
			df.loc[df.count()[0]+1] = linha
			print("Linha inserida: "+str(linha))
		elif opcao == '2':
			print(df)
		elif opcao == 'x' or opcao == 'X':
			opcao = 'X'
		else:
			print("Opcao Invalida!\n")
			
else:
	print("Nao existe arquivo .xlsx na pasta informada!")


